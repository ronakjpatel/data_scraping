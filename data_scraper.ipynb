{
 "cells": [
  {
   "cell_type": "code",
   "execution_count": 1,
   "id": "8c6f20e3",
   "metadata": {},
   "outputs": [],
   "source": [
    "import requests\n",
    "from bs4 import BeautifulSoup\n"
   ]
  },
  {
   "cell_type": "code",
   "execution_count": 3,
   "id": "c7014c9f",
   "metadata": {},
   "outputs": [],
   "source": [
    "#setting up the appropriate header value for sending the request \n",
    "headers = {\n",
    "    'User-Agent': 'Mozilla/5.0 (Macintosh; Intel Mac OS X 10.12; rv:55.0) Gecko/20100101 Firefox/55.0',\n",
    "}\n",
    "\n",
    "\n",
    "#sending the intial request and saving the response into the variable\n",
    "res = requests.get('https://wellonapharma.com/category/finished-products',headers=headers)\n"
   ]
  },
  {
   "cell_type": "code",
   "execution_count": 4,
   "id": "f1b15a65",
   "metadata": {},
   "outputs": [
    {
     "data": {
      "text/plain": [
       "requests.models.Response"
      ]
     },
     "execution_count": 4,
     "metadata": {},
     "output_type": "execute_result"
    }
   ],
   "source": [
    "#checking up the datatype of the response\n",
    "type(res)"
   ]
  },
  {
   "cell_type": "code",
   "execution_count": 5,
   "id": "62d9ef2e",
   "metadata": {},
   "outputs": [],
   "source": [
    "\n",
    "#making a call to the parser using the BeautifulSoup package\n",
    "soup = BeautifulSoup(res.text, 'lxml')\n",
    "\n"
   ]
  },
  {
   "cell_type": "code",
   "execution_count": 20,
   "id": "3e702cac",
   "metadata": {},
   "outputs": [
    {
     "data": {
      "text/plain": [
       "bs4.BeautifulSoup"
      ]
     },
     "execution_count": 20,
     "metadata": {},
     "output_type": "execute_result"
    }
   ],
   "source": [
    "type(soup)"
   ]
  },
  {
   "cell_type": "code",
   "execution_count": 10,
   "id": "c703cb50",
   "metadata": {},
   "outputs": [],
   "source": [
    "\n",
    "#creating empty list\n",
    "links_to_pages = []  #this list will contain all of the links of each products (use it later on)\n",
    "name_of_tab = [] #this list will contain the products names\n",
    "\n",
    "#scraping the information according to the structure of the website \n",
    "for ultag in soup.find_all('ul', {'class': 'list'}):\n",
    "    for litag in ultag.find_all('li'):\n",
    "        #appending the name of the product\n",
    "        name_of_tab.append(litag.text)\n",
    "        for divtag in litag.find_all('div'):\n",
    "            #appending every link in to the list\n",
    "            links_to_pages.append(divtag.a['href'])\n",
    "            \n",
    "        \n",
    "        \n",
    "        \n",
    "        \n",
    "        "
   ]
  },
  {
   "cell_type": "code",
   "execution_count": 12,
   "id": "b445552e",
   "metadata": {},
   "outputs": [
    {
     "name": "stdout",
     "output_type": "stream",
     "text": [
      "['Abacavir Sulphate Tablets', 'Abiraterone Acetate Tablets']\n",
      "['https://wellonapharma.com/product/finished/abacavir-sulphate-tablets', 'https://wellonapharma.com/product/finished/abiraterone-acetate-tablets']\n"
     ]
    }
   ],
   "source": [
    "print(name_of_tab[:2]) #extracted all of product names\n",
    "print(links_to_pages[:2]) #extracted all of the links"
   ]
  },
  {
   "cell_type": "code",
   "execution_count": 15,
   "id": "d1cfef56",
   "metadata": {},
   "outputs": [
    {
     "name": "stdout",
     "output_type": "stream",
     "text": [
      "Number of products : 789\n",
      "Number of products links : 767\n"
     ]
    }
   ],
   "source": [
    "#Checking the length of the lists \n",
    "print(\"Number of products :\" , len(name_of_tab))\n",
    "print(\"Number of products links :\" , len(links_to_pages))\n",
    "\n"
   ]
  },
  {
   "cell_type": "code",
   "execution_count": 16,
   "id": "01ae6808",
   "metadata": {},
   "outputs": [],
   "source": [
    "#according to output of the lengths both lists as holding the different values \n",
    "#that means any one of them is scraping more or less values.\n",
    "\n",
    "#after visual inspection of the products I can conclude that there are total 767 products\n",
    "# Links we are scraping is 789 so there are 789-767 = 22 miscellaneous links in links_to_pages list. \n",
    "\n",
    "\n",
    "#selecting only the corrosponding values and negating unnecessary values from list \n",
    "name_of_tab = name_of_tab[:len(links_to_pages)]\n"
   ]
  },
  {
   "cell_type": "code",
   "execution_count": 17,
   "id": "c26567f2",
   "metadata": {},
   "outputs": [
    {
     "name": "stdout",
     "output_type": "stream",
     "text": [
      "New length of the links_to_pages list:  767\n",
      "First element of the links_to_pages list:  https://wellonapharma.com/product/finished/abacavir-sulphate-tablets\n",
      "First element of the name_of_tab list:  Abacavir Sulphate Tablets\n",
      "Last element of the links_to_pages list:  https://wellonapharma.com/product/finished/vigora-jelly\n",
      "Last element of the name_of_tab list:  Vigora Jelly\n"
     ]
    }
   ],
   "source": [
    "# now the length is matching\n",
    "print(\"New length of the links_to_pages list: \", len(links_to_pages)) #same as products list\n",
    "print(\"First element of the links_to_pages list: \",links_to_pages[0])\n",
    "print(\"First element of the name_of_tab list: \",name_of_tab[0])\n",
    "print(\"Last element of the links_to_pages list: \",links_to_pages[-1])\n",
    "print(\"Last element of the name_of_tab list: \",name_of_tab[-1])\n",
    "\n",
    "#we can confirm that now there is no any anomalies in both lists."
   ]
  },
  {
   "cell_type": "code",
   "execution_count": 18,
   "id": "255cfb27",
   "metadata": {},
   "outputs": [],
   "source": [
    "#it is time get the BeautifulSoup object(source code) of the each of the products page to scrape the data from it.\n",
    "#making the empty BeautifulSoup objects list \n",
    "soup_links = []\n",
    "#iterating over all of the products pages using links_to_pages list \n",
    "for i in links_to_pages: #note: this chunk of code will take some time to scrape as there are lot of pages\n",
    "    res_links = requests.get(i,headers=headers)\n",
    "    soup_links.append(BeautifulSoup(res_links.text, 'lxml'))\n",
    "    \n",
    "        "
   ]
  },
  {
   "cell_type": "code",
   "execution_count": 20,
   "id": "b2856124",
   "metadata": {},
   "outputs": [
    {
     "name": "stdout",
     "output_type": "stream",
     "text": [
      "Data type of the soup_links:  <class 'list'>\n",
      "Data type of the first element of the list:  <class 'bs4.BeautifulSoup'>\n",
      "Length of the list:  767\n"
     ]
    }
   ],
   "source": [
    "print(\"Data type of the soup_links: \",type(soup_links))\n",
    "print(\"Data type of the first element of the list: \",type(soup_links[0]))\n",
    "print(\"Length of the list: \",len(soup_links))"
   ]
  },
  {
   "cell_type": "code",
   "execution_count": 23,
   "id": "0e9b5cfc",
   "metadata": {},
   "outputs": [],
   "source": [
    "#scraping the headings of the products inside each individual product page \n",
    "heading_of_products = []\n",
    "for i in soup_links:\n",
    "    for p_heading in i.find_all('h1', {'class': 't-blue fonarto m-0 heding-3 p-main-heading h1_head'}):\n",
    "        heading_of_products.append(p_heading.text)\n",
    "# I will use this list later in combining stage      "
   ]
  },
  {
   "cell_type": "code",
   "execution_count": 24,
   "id": "d3e25e4d",
   "metadata": {},
   "outputs": [
    {
     "name": "stdout",
     "output_type": "stream",
     "text": [
      "First element:  Abacavir Sulphate Tablets \n",
      "Length:  767\n"
     ]
    }
   ],
   "source": [
    "print(\"First element: \",heading_of_products[0])\n",
    "print(\"Length: \",len(heading_of_products))\n"
   ]
  },
  {
   "cell_type": "code",
   "execution_count": 25,
   "id": "4e837ec5",
   "metadata": {},
   "outputs": [],
   "source": [
    "#making list of the dictionaries to store the data\n",
    "products_details = {}\n",
    "products_details_list = []\n",
    "\n",
    "for i in soup_links:\n",
    "    for p_name in i.find_all('ul', {'class': 'p-list'}):\n",
    "        for li in p_name.findAll('li'):\n",
    "            #print(li.text)\n",
    "            #spliting using colon(:)\n",
    "            \n",
    "            #there are some product's data which uses colon(:) within the description\n",
    "            if(len(li.text.split(':')) == 2): #allowing only the list(returned by split method) with length 2 \n",
    "                #unpacking the values \n",
    "                first, second = li.text.split(':')\n",
    "                #stripping unnecessary blank spaces\n",
    "                products_details[first.strip()] = second.strip()\n",
    "                \n",
    "            else: #executes code if list returns 3 elements\n",
    "                first, second,third = li.text.split(':')\n",
    "                products_details[first.strip()] = second.strip() + \":\" + third.strip()\n",
    "                \n",
    "                \n",
    "                    \n",
    "    #appending the dictionary created above    \n",
    "    products_details_list.append(products_details.copy())\n",
    "          \n",
    "            \n",
    "        \n",
    "\n"
   ]
  },
  {
   "cell_type": "code",
   "execution_count": 26,
   "id": "d11b85f7",
   "metadata": {},
   "outputs": [
    {
     "name": "stdout",
     "output_type": "stream",
     "text": [
      "Length of the list of dictionaries:  767\n",
      "Data type of the first element of the list:  <class 'dict'>\n",
      "Values of the first element:  {'Product Name': 'Abacavir Sulphate Tablets', 'Trade Name': 'Abamune, Ziagen', 'Available Strength': '300 mg, 600 mg', 'Packing': '30 Tablets /Bottle', 'Pack Insert/Leaflet': 'Yes', 'Therapeutic use': 'Anti HIV', 'Production Capacity': '10 million tablet/month'}\n"
     ]
    }
   ],
   "source": [
    "print(\"Length of the list of dictionaries: \",len(products_details_list))\n",
    "print(\"Data type of the first element of the list: \",type(products_details_list[0]))\n",
    "print(\"Value of the first element: \",products_details_list[0])"
   ]
  },
  {
   "cell_type": "code",
   "execution_count": 27,
   "id": "1e98079e",
   "metadata": {},
   "outputs": [],
   "source": [
    "#scraping the detailed description of the products\n",
    "desc_of_products = []\n",
    "\n",
    "for i in soup_links:\n",
    "    for p_description in i.find_all('div', {'class': 'inline-block-100 m-t-40'}):\n",
    "        #print(p_description.text)\n",
    "        desc_of_products.append(p_description.text)"
   ]
  },
  {
   "cell_type": "code",
   "execution_count": 28,
   "id": "7fb0aade",
   "metadata": {},
   "outputs": [
    {
     "name": "stdout",
     "output_type": "stream",
     "text": [
      "Length of the list:  767\n",
      "Value of the first element:  \n",
      "\n",
      "What is Abacavir Sulphate?\n",
      "\n",
      "\n",
      "Abacavir Sulphate Tablet is a medicine that is used for the treatment of Viral Infections and other conditions.\n",
      "Abacavir Sulphate Tablet contains Abacavir Sulphate as an active ingredient.\n",
      "Abacavir Sulphate Tablet works by inhibiting reverse transcriptase enzyme.\n",
      "Detailed information related to Abacavir Sulphate Tablet's uses, composition, dosage, side effects and reviews is listed below.\n",
      "Abacavir Sulphate Tablet Uses\n",
      "Abacavir Sulphate Tablet is used for the treatment, control, prevention, & improvement of the following diseases, conditions and symptoms:\n",
      "·         Viral Infections\n",
      "Abacavir Sulphate Tablet Working, Mechanism of Action and Pharmacology\n",
      "Abacavir Sulphate Tablet improves the patient's condition by performing the following functions:\n",
      "·         Inhibiting reverse transcriptase enzyme.\n",
      "Abacavir Sulphate Tablet - Composition and Active Ingredients\n",
      "Abacavir Sulphate Tablet is composed of the following active ingredients (salts)\n",
      "·         Abacavir Sulphate (300Mg)\n",
      "Please note that this medicine may be available in various strengths for each active ingredient listed above.\n",
      "Commonly reported side effects of abacavir include\n",
      "arthralgia, cough, fatigue, lethargy, myalgia, pruritus, vomiting, chills, and malaise. Other side effects include: hypersensitivity, pharyngitis, and tachypnea. See below for a comprehensive list of adverse effects\n",
      "\n",
      "\n"
     ]
    }
   ],
   "source": [
    "print(\"Length of the list: \",len(desc_of_products))\n",
    "print(\"Value of the first element: \",desc_of_products[0])\n"
   ]
  },
  {
   "cell_type": "code",
   "execution_count": 29,
   "id": "9ca857ff",
   "metadata": {},
   "outputs": [
    {
     "data": {
      "text/plain": [
       "\"\\n\\nWhat is Abacavir Sulphate?\\n\\n\\nAbacavir Sulphate Tablet\\xa0is a medicine that is used for the treatment of\\xa0Viral Infections\\xa0and other conditions.\\nAbacavir Sulphate Tablet contains Abacavir Sulphate as an active ingredient.\\nAbacavir Sulphate Tablet works by inhibiting reverse transcriptase enzyme.\\nDetailed information related to Abacavir Sulphate Tablet's uses, composition, dosage, side effects and reviews is listed below.\\nAbacavir Sulphate Tablet Uses\\nAbacavir Sulphate Tablet\\xa0is used for the treatment, control, prevention, & improvement of the following diseases, conditions and symptoms:\\n·\\xa0\\xa0\\xa0\\xa0\\xa0\\xa0\\xa0\\xa0 Viral Infections\\nAbacavir Sulphate Tablet Working, Mechanism of Action and Pharmacology\\nAbacavir Sulphate Tablet improves the patient's condition by performing the following functions:\\n·\\xa0\\xa0\\xa0\\xa0\\xa0\\xa0\\xa0\\xa0 Inhibiting reverse transcriptase enzyme.\\nAbacavir Sulphate Tablet - Composition and Active Ingredients\\nAbacavir Sulphate Tablet\\xa0is composed of the following active ingredients (salts)\\n·\\xa0\\xa0\\xa0\\xa0\\xa0\\xa0\\xa0\\xa0 Abacavir Sulphate (300Mg)\\nPlease note that this medicine may be available in various strengths for each active ingredient listed above.\\nCommonly reported side effects of abacavir include\\narthralgia, cough, fatigue, lethargy, myalgia, pruritus, vomiting, chills, and malaise. Other side effects include: hypersensitivity, pharyngitis, and tachypnea. See below for a comprehensive list of adverse effects\\n\\n\""
      ]
     },
     "execution_count": 29,
     "metadata": {},
     "output_type": "execute_result"
    }
   ],
   "source": [
    "#printing the raw description without using any python's inbuilt function\n",
    "desc_of_products[0] #can see lot of \\n & \\xa0 "
   ]
  },
  {
   "cell_type": "code",
   "execution_count": 30,
   "id": "a54eacde",
   "metadata": {},
   "outputs": [],
   "source": [
    "#cleaning the description of the data \n",
    "import unicodedata\n",
    "\n",
    "for i in range(767):\n",
    "    #using normalize function of the unicodedata package\n",
    "    a = unicodedata.normalize(\"NFKD\",desc_of_products[i])  #deleting all of the \\xa0 from description\n",
    "    desc_of_products[i] = a.replace(\"\\n\",\" \") #deleting all of the \\n values\n",
    "\n",
    "\n"
   ]
  },
  {
   "cell_type": "code",
   "execution_count": 31,
   "id": "9cc6e18d",
   "metadata": {},
   "outputs": [
    {
     "data": {
      "text/plain": [
       "\"  What is Abacavir Sulphate?   Abacavir Sulphate Tablet is a medicine that is used for the treatment of Viral Infections and other conditions. Abacavir Sulphate Tablet contains Abacavir Sulphate as an active ingredient. Abacavir Sulphate Tablet works by inhibiting reverse transcriptase enzyme. Detailed information related to Abacavir Sulphate Tablet's uses, composition, dosage, side effects and reviews is listed below. Abacavir Sulphate Tablet Uses Abacavir Sulphate Tablet is used for the treatment, control, prevention, & improvement of the following diseases, conditions and symptoms: ·         Viral Infections Abacavir Sulphate Tablet Working, Mechanism of Action and Pharmacology Abacavir Sulphate Tablet improves the patient's condition by performing the following functions: ·         Inhibiting reverse transcriptase enzyme. Abacavir Sulphate Tablet - Composition and Active Ingredients Abacavir Sulphate Tablet is composed of the following active ingredients (salts) ·         Abacavir Sulphate (300Mg) Please note that this medicine may be available in various strengths for each active ingredient listed above. Commonly reported side effects of abacavir include arthralgia, cough, fatigue, lethargy, myalgia, pruritus, vomiting, chills, and malaise. Other side effects include: hypersensitivity, pharyngitis, and tachypnea. See below for a comprehensive list of adverse effects  \""
      ]
     },
     "execution_count": 31,
     "metadata": {},
     "output_type": "execute_result"
    }
   ],
   "source": [
    "desc_of_products[0] #checking the description again"
   ]
  },
  {
   "cell_type": "code",
   "execution_count": 32,
   "id": "048e5fd9",
   "metadata": {},
   "outputs": [],
   "source": [
    "#Time to concate all of the scraped lists into one to make one pandas dataframe\n",
    "\n",
    "\n",
    "import pandas as pd "
   ]
  },
  {
   "cell_type": "code",
   "execution_count": 33,
   "id": "683ecfc8",
   "metadata": {},
   "outputs": [],
   "source": [
    "#creating the df from list of dicts\n",
    "dataset = pd.DataFrame(products_details_list)"
   ]
  },
  {
   "cell_type": "code",
   "execution_count": 35,
   "id": "78ef72f1",
   "metadata": {},
   "outputs": [
    {
     "data": {
      "text/html": [
       "<div>\n",
       "<style scoped>\n",
       "    .dataframe tbody tr th:only-of-type {\n",
       "        vertical-align: middle;\n",
       "    }\n",
       "\n",
       "    .dataframe tbody tr th {\n",
       "        vertical-align: top;\n",
       "    }\n",
       "\n",
       "    .dataframe thead th {\n",
       "        text-align: right;\n",
       "    }\n",
       "</style>\n",
       "<table border=\"1\" class=\"dataframe\">\n",
       "  <thead>\n",
       "    <tr style=\"text-align: right;\">\n",
       "      <th></th>\n",
       "      <th>Product Name</th>\n",
       "      <th>Trade Name</th>\n",
       "      <th>Available Strength</th>\n",
       "      <th>Packing</th>\n",
       "      <th>Pack Insert/Leaflet</th>\n",
       "      <th>Therapeutic use</th>\n",
       "      <th>Production Capacity</th>\n",
       "      <th>Available Combination</th>\n",
       "    </tr>\n",
       "  </thead>\n",
       "  <tbody>\n",
       "    <tr>\n",
       "      <th>0</th>\n",
       "      <td>Abacavir Sulphate Tablets</td>\n",
       "      <td>Abamune, Ziagen</td>\n",
       "      <td>300 mg, 600 mg</td>\n",
       "      <td>30 Tablets /Bottle</td>\n",
       "      <td>Yes</td>\n",
       "      <td>Anti HIV</td>\n",
       "      <td>10 million tablet/month</td>\n",
       "      <td>NaN</td>\n",
       "    </tr>\n",
       "    <tr>\n",
       "      <th>1</th>\n",
       "      <td>Abiraterone Acetate Tablets</td>\n",
       "      <td>Xbira, Zytiga,Â Abiratas,Â Abirapro, Abiron, A...</td>\n",
       "      <td>250 mg</td>\n",
       "      <td>120 Tablets/box</td>\n",
       "      <td>Yes</td>\n",
       "      <td>Anti Cancer</td>\n",
       "      <td>1 million tablet/month</td>\n",
       "      <td>NaN</td>\n",
       "    </tr>\n",
       "    <tr>\n",
       "      <th>2</th>\n",
       "      <td>Aceclofenac Tablets</td>\n",
       "      <td>Hifenac, Cincofen, Nacsiv, Acenac, zerodol</td>\n",
       "      <td>100 mg, 200 mg</td>\n",
       "      <td>10X10 Tablets/box</td>\n",
       "      <td>Yes</td>\n",
       "      <td>NSAID,Analgesic,Antipyretic,Anti Inflammatory</td>\n",
       "      <td>10 million tablet/month</td>\n",
       "      <td>Aceclofenac  + Paracetamol Tablet,  Aceclofena...</td>\n",
       "    </tr>\n",
       "    <tr>\n",
       "      <th>3</th>\n",
       "      <td>Acetaminophen Tablets</td>\n",
       "      <td>Hifenac, Cincofen, Nacsiv, Acenac, zerodol</td>\n",
       "      <td>500 mg</td>\n",
       "      <td>10 Tabs</td>\n",
       "      <td>Yes</td>\n",
       "      <td>NSAID,Analgesic,Painkiller</td>\n",
       "      <td>1 million tablet/month</td>\n",
       "      <td>Aceclofenac  + Paracetamol Tablet,  Aceclofena...</td>\n",
       "    </tr>\n",
       "    <tr>\n",
       "      <th>4</th>\n",
       "      <td>Acetylsalicylic Acid Tablets</td>\n",
       "      <td>Disprin</td>\n",
       "      <td>75mg, 81mg, 100mg, 250mg, 325mg</td>\n",
       "      <td>10 x 10 Tabs</td>\n",
       "      <td>Yes</td>\n",
       "      <td>NSAID,Analgesic</td>\n",
       "      <td>1 million tablet/month</td>\n",
       "      <td>Aceclofenac  + Paracetamol Tablet,  Aceclofena...</td>\n",
       "    </tr>\n",
       "  </tbody>\n",
       "</table>\n",
       "</div>"
      ],
      "text/plain": [
       "                   Product Name  \\\n",
       "0     Abacavir Sulphate Tablets   \n",
       "1   Abiraterone Acetate Tablets   \n",
       "2           Aceclofenac Tablets   \n",
       "3         Acetaminophen Tablets   \n",
       "4  Acetylsalicylic Acid Tablets   \n",
       "\n",
       "                                          Trade Name  \\\n",
       "0                                    Abamune, Ziagen   \n",
       "1  Xbira, Zytiga,Â Abiratas,Â Abirapro, Abiron, A...   \n",
       "2         Hifenac, Cincofen, Nacsiv, Acenac, zerodol   \n",
       "3         Hifenac, Cincofen, Nacsiv, Acenac, zerodol   \n",
       "4                                            Disprin   \n",
       "\n",
       "                Available Strength             Packing Pack Insert/Leaflet  \\\n",
       "0                   300 mg, 600 mg  30 Tablets /Bottle                 Yes   \n",
       "1                           250 mg     120 Tablets/box                 Yes   \n",
       "2                   100 mg, 200 mg   10X10 Tablets/box                 Yes   \n",
       "3                           500 mg             10 Tabs                 Yes   \n",
       "4  75mg, 81mg, 100mg, 250mg, 325mg        10 x 10 Tabs                 Yes   \n",
       "\n",
       "                                 Therapeutic use      Production Capacity  \\\n",
       "0                                       Anti HIV  10 million tablet/month   \n",
       "1                                    Anti Cancer   1 million tablet/month   \n",
       "2  NSAID,Analgesic,Antipyretic,Anti Inflammatory  10 million tablet/month   \n",
       "3                     NSAID,Analgesic,Painkiller   1 million tablet/month   \n",
       "4                                NSAID,Analgesic   1 million tablet/month   \n",
       "\n",
       "                               Available Combination  \n",
       "0                                                NaN  \n",
       "1                                                NaN  \n",
       "2  Aceclofenac  + Paracetamol Tablet,  Aceclofena...  \n",
       "3  Aceclofenac  + Paracetamol Tablet,  Aceclofena...  \n",
       "4  Aceclofenac  + Paracetamol Tablet,  Aceclofena...  "
      ]
     },
     "execution_count": 35,
     "metadata": {},
     "output_type": "execute_result"
    }
   ],
   "source": [
    "dataset.head()"
   ]
  },
  {
   "cell_type": "code",
   "execution_count": 36,
   "id": "ec42aaf0",
   "metadata": {},
   "outputs": [],
   "source": [
    "# inserting the existing description list into df\n",
    "\n",
    "dataset.insert(8,\"Description\",desc_of_products)"
   ]
  },
  {
   "cell_type": "code",
   "execution_count": 37,
   "id": "3ee121d4",
   "metadata": {
    "scrolled": true
   },
   "outputs": [
    {
     "data": {
      "text/html": [
       "<div>\n",
       "<style scoped>\n",
       "    .dataframe tbody tr th:only-of-type {\n",
       "        vertical-align: middle;\n",
       "    }\n",
       "\n",
       "    .dataframe tbody tr th {\n",
       "        vertical-align: top;\n",
       "    }\n",
       "\n",
       "    .dataframe thead th {\n",
       "        text-align: right;\n",
       "    }\n",
       "</style>\n",
       "<table border=\"1\" class=\"dataframe\">\n",
       "  <thead>\n",
       "    <tr style=\"text-align: right;\">\n",
       "      <th></th>\n",
       "      <th>Product Name</th>\n",
       "      <th>Trade Name</th>\n",
       "      <th>Available Strength</th>\n",
       "      <th>Packing</th>\n",
       "      <th>Pack Insert/Leaflet</th>\n",
       "      <th>Therapeutic use</th>\n",
       "      <th>Production Capacity</th>\n",
       "      <th>Available Combination</th>\n",
       "      <th>Description</th>\n",
       "    </tr>\n",
       "  </thead>\n",
       "  <tbody>\n",
       "    <tr>\n",
       "      <th>0</th>\n",
       "      <td>Abacavir Sulphate Tablets</td>\n",
       "      <td>Abamune, Ziagen</td>\n",
       "      <td>300 mg, 600 mg</td>\n",
       "      <td>30 Tablets /Bottle</td>\n",
       "      <td>Yes</td>\n",
       "      <td>Anti HIV</td>\n",
       "      <td>10 million tablet/month</td>\n",
       "      <td>NaN</td>\n",
       "      <td>What is Abacavir Sulphate?   Abacavir Sulpha...</td>\n",
       "    </tr>\n",
       "    <tr>\n",
       "      <th>1</th>\n",
       "      <td>Abiraterone Acetate Tablets</td>\n",
       "      <td>Xbira, Zytiga,Â Abiratas,Â Abirapro, Abiron, A...</td>\n",
       "      <td>250 mg</td>\n",
       "      <td>120 Tablets/box</td>\n",
       "      <td>Yes</td>\n",
       "      <td>Anti Cancer</td>\n",
       "      <td>1 million tablet/month</td>\n",
       "      <td>NaN</td>\n",
       "      <td>What is Abiraterone Acetate?   The salt Abir...</td>\n",
       "    </tr>\n",
       "    <tr>\n",
       "      <th>2</th>\n",
       "      <td>Aceclofenac Tablets</td>\n",
       "      <td>Hifenac, Cincofen, Nacsiv, Acenac, zerodol</td>\n",
       "      <td>100 mg, 200 mg</td>\n",
       "      <td>10X10 Tablets/box</td>\n",
       "      <td>Yes</td>\n",
       "      <td>NSAID,Analgesic,Antipyretic,Anti Inflammatory</td>\n",
       "      <td>10 million tablet/month</td>\n",
       "      <td>Aceclofenac  + Paracetamol Tablet,  Aceclofena...</td>\n",
       "      <td>Description  What is Aceclofenac? The salt Ac...</td>\n",
       "    </tr>\n",
       "    <tr>\n",
       "      <th>3</th>\n",
       "      <td>Acetaminophen Tablets</td>\n",
       "      <td>Hifenac, Cincofen, Nacsiv, Acenac, zerodol</td>\n",
       "      <td>500 mg</td>\n",
       "      <td>10 Tabs</td>\n",
       "      <td>Yes</td>\n",
       "      <td>NSAID,Analgesic,Painkiller</td>\n",
       "      <td>1 million tablet/month</td>\n",
       "      <td>Aceclofenac  + Paracetamol Tablet,  Aceclofena...</td>\n",
       "      <td>Description  Leading Acetaminophen Tablets / ...</td>\n",
       "    </tr>\n",
       "    <tr>\n",
       "      <th>4</th>\n",
       "      <td>Acetylsalicylic Acid Tablets</td>\n",
       "      <td>Disprin</td>\n",
       "      <td>75mg, 81mg, 100mg, 250mg, 325mg</td>\n",
       "      <td>10 x 10 Tabs</td>\n",
       "      <td>Yes</td>\n",
       "      <td>NSAID,Analgesic</td>\n",
       "      <td>1 million tablet/month</td>\n",
       "      <td>Aceclofenac  + Paracetamol Tablet,  Aceclofena...</td>\n",
       "      <td>Description  Leading Acetylsalicylic Acid Tab...</td>\n",
       "    </tr>\n",
       "  </tbody>\n",
       "</table>\n",
       "</div>"
      ],
      "text/plain": [
       "                   Product Name  \\\n",
       "0     Abacavir Sulphate Tablets   \n",
       "1   Abiraterone Acetate Tablets   \n",
       "2           Aceclofenac Tablets   \n",
       "3         Acetaminophen Tablets   \n",
       "4  Acetylsalicylic Acid Tablets   \n",
       "\n",
       "                                          Trade Name  \\\n",
       "0                                    Abamune, Ziagen   \n",
       "1  Xbira, Zytiga,Â Abiratas,Â Abirapro, Abiron, A...   \n",
       "2         Hifenac, Cincofen, Nacsiv, Acenac, zerodol   \n",
       "3         Hifenac, Cincofen, Nacsiv, Acenac, zerodol   \n",
       "4                                            Disprin   \n",
       "\n",
       "                Available Strength             Packing Pack Insert/Leaflet  \\\n",
       "0                   300 mg, 600 mg  30 Tablets /Bottle                 Yes   \n",
       "1                           250 mg     120 Tablets/box                 Yes   \n",
       "2                   100 mg, 200 mg   10X10 Tablets/box                 Yes   \n",
       "3                           500 mg             10 Tabs                 Yes   \n",
       "4  75mg, 81mg, 100mg, 250mg, 325mg        10 x 10 Tabs                 Yes   \n",
       "\n",
       "                                 Therapeutic use      Production Capacity  \\\n",
       "0                                       Anti HIV  10 million tablet/month   \n",
       "1                                    Anti Cancer   1 million tablet/month   \n",
       "2  NSAID,Analgesic,Antipyretic,Anti Inflammatory  10 million tablet/month   \n",
       "3                     NSAID,Analgesic,Painkiller   1 million tablet/month   \n",
       "4                                NSAID,Analgesic   1 million tablet/month   \n",
       "\n",
       "                               Available Combination  \\\n",
       "0                                                NaN   \n",
       "1                                                NaN   \n",
       "2  Aceclofenac  + Paracetamol Tablet,  Aceclofena...   \n",
       "3  Aceclofenac  + Paracetamol Tablet,  Aceclofena...   \n",
       "4  Aceclofenac  + Paracetamol Tablet,  Aceclofena...   \n",
       "\n",
       "                                         Description  \n",
       "0    What is Abacavir Sulphate?   Abacavir Sulpha...  \n",
       "1    What is Abiraterone Acetate?   The salt Abir...  \n",
       "2   Description  What is Aceclofenac? The salt Ac...  \n",
       "3   Description  Leading Acetaminophen Tablets / ...  \n",
       "4   Description  Leading Acetylsalicylic Acid Tab...  "
      ]
     },
     "execution_count": 37,
     "metadata": {},
     "output_type": "execute_result"
    }
   ],
   "source": [
    "dataset.head()"
   ]
  },
  {
   "cell_type": "code",
   "execution_count": 340,
   "id": "25827362",
   "metadata": {},
   "outputs": [],
   "source": [
    "#exporting the final dataframe as a CSV file to a desired location\n",
    "dataset.to_csv('/Users/ronakpatel/Desktop/Products_Data.csv')"
   ]
  }
 ],
 "metadata": {
  "kernelspec": {
   "display_name": "Python 3",
   "language": "python",
   "name": "python3"
  },
  "language_info": {
   "codemirror_mode": {
    "name": "ipython",
    "version": 3
   },
   "file_extension": ".py",
   "mimetype": "text/x-python",
   "name": "python",
   "nbconvert_exporter": "python",
   "pygments_lexer": "ipython3",
   "version": "3.8.10"
  }
 },
 "nbformat": 4,
 "nbformat_minor": 5
}
